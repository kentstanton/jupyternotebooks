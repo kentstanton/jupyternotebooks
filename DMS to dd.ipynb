{
 "cells": [
  {
   "cell_type": "markdown",
   "metadata": {},
   "source": [
    "We use a pair of coordinates to represent a location on the earth.\n",
    "\n",
    "We use simple x,y coordinates to represent a location on a plane, but, because the earth is a sphere (roughly speaking), we use coordinates that represent a position on a circle to represent locations on the earth. The most commonly used system refers to these coordinates as the latitude and the longitude.\n",
    "\n",
    "We use angle measures to locate points on a circle. \n",
    "\n",
    "![Image of circle](https://drive.google.com/file/d/13c0kak_D1YfVDPOohbCyZ0NM5reTWQGT/view?usp=sharing)\n",
    "\n",
    "\n",
    "\n",
    "Latitude and longitude are  provides the north or south part of the coordiate. It is the measure of the angle between the location and the equator.\n",
    "\n",
    "Placing the cooridnates on a circle solves part of the problem, but one issue remains. We need starting point"
   ]
  },
  {
   "cell_type": "code",
   "execution_count": 14,
   "metadata": {},
   "outputs": [
    {
     "name": "stdout",
     "output_type": "stream",
     "text": [
      "19\n"
     ]
    }
   ],
   "source": [
    "x=3\n",
    "y=x**2 + 3*x +1\n",
    "print(y)"
   ]
  }
 ],
 "metadata": {
  "kernelspec": {
   "display_name": "Python 3",
   "language": "python",
   "name": "python3"
  },
  "language_info": {
   "codemirror_mode": {
    "name": "ipython",
    "version": 3
   },
   "file_extension": ".py",
   "mimetype": "text/x-python",
   "name": "python",
   "nbconvert_exporter": "python",
   "pygments_lexer": "ipython3",
   "version": "3.6.4"
  }
 },
 "nbformat": 4,
 "nbformat_minor": 2
}
