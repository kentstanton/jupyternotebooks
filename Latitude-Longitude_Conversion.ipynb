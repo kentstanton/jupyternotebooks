{
 "cells": [
  {
   "cell_type": "markdown",
   "metadata": {},
   "source": [
    "We use a pair of coordinates called latitude and longitude to represent locations on the earth.\n",
    "\n",
    "The commonly used \"Geogrpahic Coordinate System\"  uses measures of angles to assign coordinates to locations. Angle measures are represented by degree, minutes and seconds (DMS). A circle is divided into 360 degrees. Just as on a clock, each degree is then subdivided into 60 minutes and each minute contains 60 seconds.\n",
    "\n",
    "Latitude is the coordinate that locates the position north or south of the equator. Longitude is the coordinate that locates the position east or west of the Prime Meridian (which passes through Greenwich England).\n",
    "\n",
    "A position north of the equator is given by a positive coordinate or with the letter N following the coordinate.\n",
    "A position east of the prime merdian is given by a positive coordinate or with the letter E following the coordinate.\n",
    "\n",
    "For example, the Eifel Tower in Paris is located at:\n",
    "Latitude: 48°51'28.91\"N (read as, 48 degrees, 51 minutes, 28.91 seconds north)\n",
    "Longitude: 2°17'43.12\"E (read as, 2 degrees, 17 minutes, 43.12 seconds east)\n",
    "\n",
    "Locations in the United States are west of the prime meridian so these longitudes are shown as negative numbers, or with the letter W following the coordinate. For example, the Statue of Liberty, located on Liberty Island in New York Harbour, is located at:\n",
    "\n",
    "Latitude: 40°41'21.04\"N\n",
    "Longitude: 74° 2'40.20\"W (or, -74° 2'40.20, the negative coodinate is the same as 74° 2'40.20\"W )\n",
    "\n",
    "Typing the symbols we use to represent a coordinate using degress, minutes and seconds is inconvenient when working on a computer, and an alternative, referred to as decimal degrees (DD), has become popular in recent years. Decimal degrees are simply a different way of representing the same coodinates. For example:\n",
    "\n",
    "Using decimal degrees, 45°30'00\"N can be represented as 45.5. This location is 45 degrees, 30 minutes and 0 seconds north of the equator. Thirty minutes and zero seconds is exactly half of the 60 minutes used to subdivide the degrees used in our angle measurement, so represented as a decimal, this becomes 45.5 degrees. When using decimal degrees it is common to avoid the use of \"N or \"W to indicate north and west by using positive numbers for latitudes north of the equator; negative numbers for latitudes south of the equator; positive numbers for longitudes east of the prime merdian and negative numbers for longitudes west of the prime merdian.\n",
    "\n",
    "The question is, how do we convert between these two representations for latitudes and longitudes? Lucily, this is simple and with practice you can do it in your head. The key is to recognize two things:\n",
    "\n",
    "1) The degree part of the location is not changed\n",
    "2) The minutes and seconds that subdivide the degree measurement are the same as minutes and seconds we use to measure time. Thirty minutes and 0 seconds is half of an hour, or .5 hours. When working with angle measurements, thirty minutes and 0 seconds is half of a degree, or .5 degrees. \n",
    "\n",
    "So, what is the DMS equivalent of a longitude of 40.75 degrees?\n",
    "This a positive number, so this is a \"north\" latitude. Thinking in terms of a clock face, how many minutes and seconds are equivalent to .75 hours? That's 45 minutes and zero seconds, easy, right? The DMS equivalent of the latitude 40.75 is 40°45'00\"N.\n",
    "\n",
    "Here's another example, what is the DD equivalent of the longitude -74° 15'30\"W?\n",
    "This is a negative number, so this is a west longitude.\n",
    "But what is the decimal value for 15 minutes and 30 seconds? Or, put another way, what percentage of a degree is represented by 15 minutes and 30 seconds?\n",
    "\n",
    "The solution can be written as an equation:\n",
    "1) DD = (sign)degrees + (minutes/60) + (seconds /60) \n",
    "2) 74 + (15/60) + (30/3600)\n",
    "3) 74 + .25 + .008333\n",
    "4) (-)74.258333\n",
    "\n",
    "How about going the other way? What is the DMS representation of 40.455 degrees?\n",
    "In this case we'll use an algorithm.\n",
    "1) The degrees (with the sign) are carried forward: 40\n",
    "2) Mulitply the decimal by 60. .455*60 = 27.3 <= this is our answer in minutes\n",
    "3) Multiply the decimal part of the minutes (.3) * 60. .3*60 = 18 <= this is the seconds part of our answer\n",
    "DMS = 40°27'18\"\n",
    "\n",
    "\n"
   ]
  },
  {
   "cell_type": "code",
   "execution_count": 5,
   "metadata": {},
   "outputs": [
    {
     "name": "stdout",
     "output_type": "stream",
     "text": [
      "74.25833333333334\n"
     ]
    }
   ],
   "source": [
    "#DMS to DD\n",
    "degrees = 74\n",
    "minutes = 15\n",
    "seconds = 30\n",
    "dd = degrees + (minutes/60) + (seconds/3600)\n",
    "print(dd)"
   ]
  },
  {
   "cell_type": "code",
   "execution_count": 25,
   "metadata": {},
   "outputs": [
    {
     "name": "stdout",
     "output_type": "stream",
     "text": [
      "Minutes: %d 27.299999999999898\n",
      "Seconds: %d 17.99999999999386\n",
      "DMS: 40° 27' 18'' \n"
     ]
    }
   ],
   "source": [
    "#DD to DMS\n",
    "dd = 40.455\n",
    "degrees = round(dd)\n",
    "minutes = (dd % 1) * 60\n",
    "print(\"Minutes: %d\", minutes)\n",
    "seconds = (minutes % 1) * 60\n",
    "print(\"Seconds: %d\", seconds)\n",
    "\n",
    "print(\"DMS: {degrees}° {minutes}' {seconds}'' \".format(degrees=round(dd), minutes=round(minutes), seconds=round(seconds)))"
   ]
  }
 ],
 "metadata": {
  "kernelspec": {
   "display_name": "Python 3",
   "language": "python",
   "name": "python3"
  },
  "language_info": {
   "codemirror_mode": {
    "name": "ipython",
    "version": 3
   },
   "file_extension": ".py",
   "mimetype": "text/x-python",
   "name": "python",
   "nbconvert_exporter": "python",
   "pygments_lexer": "ipython3",
   "version": "3.6.4"
  }
 },
 "nbformat": 4,
 "nbformat_minor": 2
}
